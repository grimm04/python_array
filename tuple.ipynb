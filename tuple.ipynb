{
 "cells": [
  {
   "cell_type": "code",
   "execution_count": 6,
   "id": "8a872257-a327-4775-a2f1-1ddca403e606",
   "metadata": {},
   "outputs": [],
   "source": [
    "a = \"a\",\"b\",\"c\"\n",
    "b = \"brawi\", \n",
    "c = (\"bandung\")\n",
    "# harus berakhiran , jika item cuma 1 atau menggunakan funsi tupple()"
   ]
  },
  {
   "cell_type": "code",
   "execution_count": 7,
   "id": "ced56fb0-ae37-4636-bd2d-264086327f73",
   "metadata": {},
   "outputs": [
    {
     "name": "stdout",
     "output_type": "stream",
     "text": [
      "variable a: ('a', 'b', 'c') bertipedata <class 'tuple'>\n",
      "variable b: ('brawi',) bertipedata <class 'tuple'>\n",
      "variable c: bandung bertipedata <class 'str'>\n"
     ]
    }
   ],
   "source": [
    "print(f\"variable a: {a} bertipedata {type(a)}\")\n",
    "print(f\"variable b: {b} bertipedata {type(b)}\")\n",
    "print(f\"variable c: {c} bertipedata {type(c)}\")"
   ]
  },
  {
   "cell_type": "code",
   "execution_count": 9,
   "id": "45debfac-3fd9-4f77-a88e-2209f7d5b730",
   "metadata": {},
   "outputs": [
    {
     "name": "stdout",
     "output_type": "stream",
     "text": [
      "senin\n",
      "rabu\n",
      "kamis\n"
     ]
    }
   ],
   "source": [
    "#indexing dan slicing\n",
    "hari = (\"senin\",\"selasa\",\"rabu\",\"kamis\")\n",
    "\n",
    "#indexing\n",
    "print(hari[0]) # pertama\n",
    "print(hari[2]) # ketiga\n",
    "print(hari[-1]) # terakhir"
   ]
  },
  {
   "cell_type": "code",
   "execution_count": 10,
   "id": "d53ae65e-ef05-43ad-862e-8c2ed00f9032",
   "metadata": {},
   "outputs": [
    {
     "name": "stdout",
     "output_type": "stream",
     "text": [
      "('senin', 'selasa', 'rabu', 'kamis')\n",
      "senin\n",
      "('selasa', 'rabu', 'kamis')\n",
      "('senin', 'selasa')\n",
      "('selasa', 'rabu')\n",
      "('senin', 'rabu')\n",
      "('kamis', 'rabu', 'selasa', 'senin')\n"
     ]
    }
   ],
   "source": [
    "#slicing \n",
    "print(hari[:]) # semua\n",
    "print(hari[0]) # pertama\n",
    "print(hari[1:]) # kedua - akhir\n",
    "print(hari[:2]) # pertama - ketiga\n",
    "print(hari[1:3]) # kedua - keempat\n",
    "print(hari[0:3:2]) # pertama - keempat skil 1 item\n",
    "print(hari[::-1]) # membalik"
   ]
  },
  {
   "cell_type": "code",
   "execution_count": 11,
   "id": "33f2cabe-73fa-436c-81cd-4459a878f13a",
   "metadata": {},
   "outputs": [
    {
     "name": "stdout",
     "output_type": "stream",
     "text": [
      "a == b --> True\n",
      "a >= b --> True\n",
      "a <= b --> True\n",
      "a > b --> False\n",
      "a < b --> False\n",
      "a != b --> False\n"
     ]
    }
   ],
   "source": [
    "# tuple comparisons\n",
    "a = (1,2,3)\n",
    "b = (1,2,3)\n",
    "\n",
    "print(f\"a == b --> {a == b}\")\n",
    "print(f\"a >= b --> {a >= b}\")\n",
    "print(f\"a <= b --> {a <= b}\")\n",
    "print(f\"a > b --> {a > b}\")\n",
    "print(f\"a < b --> {a < b}\")\n",
    "print(f\"a != b --> {a != b}\")"
   ]
  },
  {
   "cell_type": "code",
   "execution_count": 14,
   "id": "36e2e76f-de2c-455f-b7c7-73cebf8dc9cf",
   "metadata": {},
   "outputs": [
    {
     "name": "stdout",
     "output_type": "stream",
     "text": [
      "total yg mendapat nilai 90: 3\n"
     ]
    }
   ],
   "source": [
    "# tuple method\n",
    "score = (90,100,88,90,75,69,90)\n",
    "\n",
    "#count()\n",
    "score_90 = score.count(90)\n",
    "print(f\"total yg mendapat nilai 90: {score_90}\")"
   ]
  },
  {
   "cell_type": "code",
   "execution_count": 17,
   "id": "e5b48319-ffaf-465b-9a58-50b96c5571e8",
   "metadata": {},
   "outputs": [
    {
     "name": "stdout",
     "output_type": "stream",
     "text": [
      "nilai 100 berapa pada indexs: 1\n"
     ]
    }
   ],
   "source": [
    "#index()\n",
    "score_100 = score.index(100)\n",
    "print(f\"nilai 100 berapa pada indexs: {score_100}\")"
   ]
  },
  {
   "cell_type": "code",
   "execution_count": 20,
   "id": "e7b9e91a-8495-44ef-a3f5-b80a3c2871ec",
   "metadata": {},
   "outputs": [
    {
     "name": "stdout",
     "output_type": "stream",
     "text": [
      "{'A': 100, 'B': 85, 'C': 70, 'D': 60}\n"
     ]
    }
   ],
   "source": [
    "# update() \n",
    "\n",
    "a = {\"A\":100, \"B\":85,\"C\":70}\n",
    "b = {\"D\":60}\n",
    "\n",
    "a.update(b)\n",
    "print(a)"
   ]
  },
  {
   "cell_type": "code",
   "execution_count": 21,
   "id": "c611a881-31d6-4cc6-be95-a3f59abc16c0",
   "metadata": {},
   "outputs": [
    {
     "name": "stdout",
     "output_type": "stream",
     "text": [
      "{'A': 100, 'B': 85, 'C': 70}\n"
     ]
    }
   ],
   "source": [
    "#pop() menghapus\n",
    "a = {\"A\":100, \"B\":85,\"C\":70, \"D\":60}\n",
    "\n",
    "a.pop(\"D\")\n",
    "print(a)"
   ]
  },
  {
   "cell_type": "code",
   "execution_count": null,
   "id": "5d68675f-79b6-4880-9843-d25db582c97c",
   "metadata": {},
   "outputs": [],
   "source": []
  }
 ],
 "metadata": {
  "kernelspec": {
   "display_name": "Python 3 (ipykernel)",
   "language": "python",
   "name": "python3"
  },
  "language_info": {
   "codemirror_mode": {
    "name": "ipython",
    "version": 3
   },
   "file_extension": ".py",
   "mimetype": "text/x-python",
   "name": "python",
   "nbconvert_exporter": "python",
   "pygments_lexer": "ipython3",
   "version": "3.8.10"
  }
 },
 "nbformat": 4,
 "nbformat_minor": 5
}
