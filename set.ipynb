{
 "cells": [
  {
   "cell_type": "code",
   "execution_count": 3,
   "id": "62f80a7e-309c-4204-8f15-13af582403ca",
   "metadata": {},
   "outputs": [],
   "source": [
    "genap = {2,4,2,2, 6, 8, 10, 2, 4 } # duplicate auto remove\n",
    "univ = {\"UB\"}"
   ]
  },
  {
   "cell_type": "code",
   "execution_count": 4,
   "id": "d11be444-2fff-4bb2-a199-efeb8faf0762",
   "metadata": {},
   "outputs": [
    {
     "name": "stdout",
     "output_type": "stream",
     "text": [
      "{2, 4, 6, 8, 10} <class 'set'>\n",
      "{'UB'} <class 'set'>\n"
     ]
    }
   ],
   "source": [
    "print(genap, type(genap))\n",
    "print(univ, type(univ))"
   ]
  },
  {
   "cell_type": "code",
   "execution_count": 5,
   "id": "8c40e83d-cc41-46ca-b72a-43409cb46cc6",
   "metadata": {},
   "outputs": [
    {
     "name": "stdout",
     "output_type": "stream",
     "text": [
      "variable nama bertipe <class 'dict'>\n",
      "variable umur bertipe <class 'set'>\n"
     ]
    }
   ],
   "source": [
    "#dict\n",
    "nama = {}\n",
    "print(f\"variable nama bertipe {type(nama)}\")\n",
    "\n",
    "#set tidak bisa menggunakan = {} \n",
    "umur = set()\n",
    "print(f\"variable umur bertipe {type(umur)}\")"
   ]
  },
  {
   "cell_type": "code",
   "execution_count": 7,
   "id": "a1fe9da7-28bc-43ae-bc06-ddb3f58e18d0",
   "metadata": {},
   "outputs": [
    {
     "name": "stdout",
     "output_type": "stream",
     "text": [
      "kampus : {'b', 'a', 'y', 'r', 'i', 'j', 'm', 'w'} bertipe <class 'set'>\n",
      "buah : {'jeruk', 'mangga', 'apel'} bertipe <class 'set'>\n",
      "nilai : {80, 66, 100, 86, 90} bertipe <class 'set'>\n",
      "grade : {'A', 'B', 'D', 'C'} bertipe <class 'set'>\n"
     ]
    }
   ],
   "source": [
    "#convert tipe data to set\n",
    "kampus = \"bramawijaya\" #string\n",
    "buah = [\"apel\",\"jeruk\",\"mangga\"] #list\n",
    "nilai = {100,90,80,66,86,90} #tuple\n",
    "grade = {\"A\":100,\"B\":85,\"C\":70,\"D\":60} #dict\n",
    "\n",
    "#convert to set()\n",
    "kampus = set(kampus)\n",
    "buah = set(buah)\n",
    "nilai = set(nilai)\n",
    "grade = set(grade)\n",
    "\n",
    "print(f\"kampus : {kampus} bertipe {type(kampus)}\")\n",
    "print(f\"buah : {buah} bertipe {type(buah)}\")\n",
    "print(f\"nilai : {nilai} bertipe {type(nilai)}\")\n",
    "print(f\"grade : {grade} bertipe {type(grade)}\")"
   ]
  },
  {
   "cell_type": "code",
   "execution_count": 8,
   "id": "e78e3de3-75cc-4592-94e9-bfc00fc06ee1",
   "metadata": {},
   "outputs": [],
   "source": [
    "#method yg sering dipakai pada set add(), union(),intersection().\n",
    "\n",
    "nilai = {90,100,75,95,88,100}\n",
    "nilai.add(80)"
   ]
  },
  {
   "cell_type": "code",
   "execution_count": 9,
   "id": "5c3910e5-f697-4645-a82f-7ea5f91e1ec7",
   "metadata": {},
   "outputs": [
    {
     "data": {
      "text/plain": [
       "{75, 80, 88, 90, 95, 100}"
      ]
     },
     "execution_count": 9,
     "metadata": {},
     "output_type": "execute_result"
    }
   ],
   "source": [
    "nilai"
   ]
  },
  {
   "cell_type": "code",
   "execution_count": 12,
   "id": "52bc8e9d-8302-41cb-9d7b-f24cd9127711",
   "metadata": {},
   "outputs": [
    {
     "name": "stdout",
     "output_type": "stream",
     "text": [
      "union: {1, 2, 3, 5}\n",
      "intersection: {2, 3}\n"
     ]
    }
   ],
   "source": [
    "a = {1,2,3}\n",
    "b = {2,3,5}\n",
    "\n",
    "print(f\"union: {a.union(b)}\") # return nilai 2 set \n",
    "print(f\"intersection: {a.intersection(b)}\") # nilai yang sama antara 2 set\n"
   ]
  },
  {
   "cell_type": "code",
   "execution_count": null,
   "id": "c18cfd59-79a0-46a1-b360-738fe008051e",
   "metadata": {},
   "outputs": [],
   "source": []
  }
 ],
 "metadata": {
  "kernelspec": {
   "display_name": "Python 3 (ipykernel)",
   "language": "python",
   "name": "python3"
  },
  "language_info": {
   "codemirror_mode": {
    "name": "ipython",
    "version": 3
   },
   "file_extension": ".py",
   "mimetype": "text/x-python",
   "name": "python",
   "nbconvert_exporter": "python",
   "pygments_lexer": "ipython3",
   "version": "3.8.10"
  }
 },
 "nbformat": 4,
 "nbformat_minor": 5
}
