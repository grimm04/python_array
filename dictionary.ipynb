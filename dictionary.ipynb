{
 "cells": [
  {
   "cell_type": "code",
   "execution_count": 2,
   "id": "341de2de-75d4-43d6-b0bc-9b52c2eee022",
   "metadata": {},
   "outputs": [
    {
     "name": "stdout",
     "output_type": "stream",
     "text": [
      "{1: 'satu', 2: 'dua', 3: 'tiga', 4: 'empat', 5: 'lima'} <class 'dict'>\n"
     ]
    }
   ],
   "source": [
    "#dictionary mengggunakan key dan value\n",
    "number = {1:\"satu\",\n",
    "          2:\"dua\",\n",
    "          3:\"tiga\",\n",
    "          4:\"empat\",\n",
    "          5:\"lima\"\n",
    "         }\n",
    "print(number, type(number))"
   ]
  },
  {
   "cell_type": "code",
   "execution_count": 3,
   "id": "03cb3583-007a-4288-85e8-12601b42ae31",
   "metadata": {},
   "outputs": [
    {
     "name": "stdout",
     "output_type": "stream",
     "text": [
      "{1: 'satu', 2: 'dua', 3: 'tiga'} <class 'dict'>\n",
      "{'a': 'b', 'c': 'd', 'e': 'f'} <class 'dict'>\n"
     ]
    }
   ],
   "source": [
    "number = [[1,\"satu\"],[2,\"dua\"],[3,\"tiga\"]] #list\n",
    "huruf  = ((\"a\",\"b\"),(\"c\",\"d\"),(\"e\",\"f\")) #tuple\n",
    "\n",
    "#menugbah list & tuple ke dict\n",
    "number = dict(number)\n",
    "huruf  = dict(huruf)\n",
    "\n",
    "print(number, type(number))\n",
    "print(huruf, type(huruf))"
   ]
  },
  {
   "cell_type": "code",
   "execution_count": 7,
   "id": "b966d003-3ec9-4a1b-abb4-6ceb5c306412",
   "metadata": {},
   "outputs": [
    {
     "name": "stdout",
     "output_type": "stream",
     "text": [
      "{'name': 'syahril', 'id': 123, 'age': 15, 'gender': 'male'}\n"
     ]
    }
   ],
   "source": [
    "#modify item\n",
    "\n",
    "user = {\"name\": \"syahril\",\"id\":123,\"age\":13}\n",
    "\n",
    "#add\n",
    "user[\"gender\"] = \"male\"\n",
    "\n",
    "#update\n",
    "user[\"age\"] = 15\n",
    "\n",
    "print(user)"
   ]
  },
  {
   "cell_type": "code",
   "execution_count": 9,
   "id": "4a1cd31f-c39e-40b2-88d1-6bf7aa5e7eab",
   "metadata": {},
   "outputs": [
    {
     "name": "stdout",
     "output_type": "stream",
     "text": [
      "syahril\n",
      "123\n"
     ]
    }
   ],
   "source": [
    "#menggunakan method .get()\n",
    "\n",
    "print(user[\"name\"]) # key\n",
    "print(user.get(\"id\")) # method get()\n"
   ]
  },
  {
   "cell_type": "code",
   "execution_count": 10,
   "id": "4a047c67-df4f-477e-8d6b-5f424e9cf20b",
   "metadata": {},
   "outputs": [
    {
     "name": "stdout",
     "output_type": "stream",
     "text": [
      "dict_keys(['name', 'id', 'age', 'gender'])\n",
      "dict_values(['syahril', 123, 15, 'male'])\n",
      "dict_items([('name', 'syahril'), ('id', 123), ('age', 15), ('gender', 'male')])\n"
     ]
    }
   ],
   "source": [
    "# keys, values, items()\n",
    "\n",
    "print(user.keys())\n",
    "print(user.values())\n",
    "print(user.items())"
   ]
  },
  {
   "cell_type": "code",
   "execution_count": 11,
   "id": "a1232db2-cd86-41d5-ad59-b8ac3e389ac0",
   "metadata": {},
   "outputs": [
    {
     "name": "stdout",
     "output_type": "stream",
     "text": [
      "a == b --> False\n",
      "a != b --> True\n"
     ]
    }
   ],
   "source": [
    "#compariosons\n",
    "\n",
    "a = {1:2,3:4,5:6,7:8}\n",
    "b = {1:2,3:4,5:6}\n",
    "\n",
    "print(f\"a == b --> {a == b}\")\n",
    "print(f\"a != b --> {a != b}\")"
   ]
  },
  {
   "cell_type": "code",
   "execution_count": null,
   "id": "7085cdf0-c269-4449-8c73-410e799e75bb",
   "metadata": {},
   "outputs": [],
   "source": []
  }
 ],
 "metadata": {
  "kernelspec": {
   "display_name": "Python 3 (ipykernel)",
   "language": "python",
   "name": "python3"
  },
  "language_info": {
   "codemirror_mode": {
    "name": "ipython",
    "version": 3
   },
   "file_extension": ".py",
   "mimetype": "text/x-python",
   "name": "python",
   "nbconvert_exporter": "python",
   "pygments_lexer": "ipython3",
   "version": "3.8.10"
  }
 },
 "nbformat": 4,
 "nbformat_minor": 5
}
