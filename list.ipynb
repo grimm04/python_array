{
 "cells": [
  {
   "cell_type": "code",
   "execution_count": 1,
   "id": "9ca7bdc5-4b9e-41e8-a04c-a8d4372e20ef",
   "metadata": {},
   "outputs": [],
   "source": [
    "list_empty = []"
   ]
  },
  {
   "cell_type": "code",
   "execution_count": 2,
   "id": "06db8af2-cdd1-4c67-9b1b-5fb06dcf0fb3",
   "metadata": {},
   "outputs": [
    {
     "data": {
      "text/plain": [
       "[]"
      ]
     },
     "execution_count": 2,
     "metadata": {},
     "output_type": "execute_result"
    }
   ],
   "source": [
    "list_empty"
   ]
  },
  {
   "cell_type": "code",
   "execution_count": 3,
   "id": "1acf79cf-069b-44b6-ba68-4679f00d2f2e",
   "metadata": {},
   "outputs": [],
   "source": [
    "year = [2020,2021,2022,2023,2025]"
   ]
  },
  {
   "cell_type": "code",
   "execution_count": 4,
   "id": "37788798-bace-4ff9-b728-3be7d2cf8dff",
   "metadata": {},
   "outputs": [
    {
     "data": {
      "text/plain": [
       "[2020, 2021, 2022, 2023, 2025]"
      ]
     },
     "execution_count": 4,
     "metadata": {},
     "output_type": "execute_result"
    }
   ],
   "source": [
    "year"
   ]
  },
  {
   "cell_type": "code",
   "execution_count": 13,
   "id": "d53fac7e-13b1-4616-9f86-e138ac72e172",
   "metadata": {},
   "outputs": [],
   "source": [
    "day = ['sunday','monday','tuesday','wednesday']"
   ]
  },
  {
   "cell_type": "code",
   "execution_count": 6,
   "id": "b1809e4f-7082-46f5-bae8-76b644059857",
   "metadata": {},
   "outputs": [],
   "source": [
    "score = [90.5,80.2,77.7]"
   ]
  },
  {
   "cell_type": "code",
   "execution_count": 7,
   "id": "bf1462a7-b0f4-41c3-8b76-186407115ab8",
   "metadata": {},
   "outputs": [
    {
     "data": {
      "text/plain": [
       "[90.5, 80.2, 77.7]"
      ]
     },
     "execution_count": 7,
     "metadata": {},
     "output_type": "execute_result"
    }
   ],
   "source": [
    "score"
   ]
  },
  {
   "cell_type": "code",
   "execution_count": 8,
   "id": "90b9a3bf-a45e-4968-b400-3b3be6331eb8",
   "metadata": {},
   "outputs": [],
   "source": [
    "bool = [True,False]"
   ]
  },
  {
   "cell_type": "code",
   "execution_count": 9,
   "id": "874266f9-02c1-4dc7-8878-bfe73755c6cd",
   "metadata": {},
   "outputs": [
    {
     "data": {
      "text/plain": [
       "[True, False]"
      ]
     },
     "execution_count": 9,
     "metadata": {},
     "output_type": "execute_result"
    }
   ],
   "source": [
    "bool"
   ]
  },
  {
   "cell_type": "code",
   "execution_count": 10,
   "id": "709c1a0d-74c6-4e19-8e37-b9a383c54124",
   "metadata": {},
   "outputs": [
    {
     "data": {
      "text/plain": [
       "list"
      ]
     },
     "execution_count": 10,
     "metadata": {},
     "output_type": "execute_result"
    }
   ],
   "source": [
    "type(bool)"
   ]
  },
  {
   "cell_type": "code",
   "execution_count": 11,
   "id": "a1aa874c-dd70-405a-87d3-afa86200ec67",
   "metadata": {},
   "outputs": [],
   "source": [
    "#nested\n",
    "animals = ['pisces',['amphibi','reptil'],'mamalia']"
   ]
  },
  {
   "cell_type": "code",
   "execution_count": 12,
   "id": "80fd1f05-74e7-4bc9-b629-5420858645f8",
   "metadata": {},
   "outputs": [
    {
     "data": {
      "text/plain": [
       "['pisces', ['amphibi', 'reptil'], 'mamalia']"
      ]
     },
     "execution_count": 12,
     "metadata": {},
     "output_type": "execute_result"
    }
   ],
   "source": [
    "animals"
   ]
  },
  {
   "cell_type": "code",
   "execution_count": 19,
   "id": "57e62970-e12a-4605-9ced-5f52a90656b5",
   "metadata": {},
   "outputs": [
    {
     "name": "stdout",
     "output_type": "stream",
     "text": [
      "sunday\n"
     ]
    }
   ],
   "source": [
    "print(day[0]) #first item"
   ]
  },
  {
   "cell_type": "code",
   "execution_count": 20,
   "id": "e6da8304-1cba-41a2-8269-1e7f5072cb42",
   "metadata": {},
   "outputs": [
    {
     "name": "stdout",
     "output_type": "stream",
     "text": [
      "wednesday\n"
     ]
    }
   ],
   "source": [
    "print(day[-1]) #last item "
   ]
  },
  {
   "cell_type": "code",
   "execution_count": 21,
   "id": "3399fc83-1fec-498b-b5a1-803e5605e432",
   "metadata": {},
   "outputs": [
    {
     "data": {
      "text/plain": [
       "4"
      ]
     },
     "execution_count": 21,
     "metadata": {},
     "output_type": "execute_result"
    }
   ],
   "source": [
    "len(day)"
   ]
  },
  {
   "cell_type": "code",
   "execution_count": 22,
   "id": "c3352a3b-89f6-4d66-a2f7-ac4b1d7613a2",
   "metadata": {},
   "outputs": [
    {
     "name": "stdout",
     "output_type": "stream",
     "text": [
      "['sunday', 'monday', 'tuesday', 'wednesday']\n"
     ]
    }
   ],
   "source": [
    "print(day[:]) #all"
   ]
  },
  {
   "cell_type": "code",
   "execution_count": 23,
   "id": "2c751ff3-9996-4240-9b79-0930cd00ce09",
   "metadata": {},
   "outputs": [
    {
     "name": "stdout",
     "output_type": "stream",
     "text": [
      "['monday', 'tuesday', 'wednesday']\n"
     ]
    }
   ],
   "source": [
    "print(day[1:]) # kedua - akhir"
   ]
  },
  {
   "cell_type": "code",
   "execution_count": 24,
   "id": "d3cc00cb-b6b7-4659-8501-d717f0be3f87",
   "metadata": {},
   "outputs": [
    {
     "name": "stdout",
     "output_type": "stream",
     "text": [
      "['sunday', 'monday']\n"
     ]
    }
   ],
   "source": [
    "print(day[:2]) # pertama - ketiga"
   ]
  },
  {
   "cell_type": "code",
   "execution_count": 25,
   "id": "c5f93ecb-8c02-4179-8ea1-ac2b49218f12",
   "metadata": {},
   "outputs": [
    {
     "name": "stdout",
     "output_type": "stream",
     "text": [
      "['monday', 'tuesday']\n"
     ]
    }
   ],
   "source": [
    "print(day[1:3]) # kedua - keempat"
   ]
  },
  {
   "cell_type": "code",
   "execution_count": 26,
   "id": "65b7ba7c-241f-484e-b476-7f7ff81ce326",
   "metadata": {},
   "outputs": [
    {
     "name": "stdout",
     "output_type": "stream",
     "text": [
      "['sunday', 'tuesday']\n"
     ]
    }
   ],
   "source": [
    "print(day[0:3:2]) # pertama - keempat skip 1 item"
   ]
  },
  {
   "cell_type": "code",
   "execution_count": 27,
   "id": "230a9490-f4d5-4291-956b-13698ae905e5",
   "metadata": {},
   "outputs": [
    {
     "name": "stdout",
     "output_type": "stream",
     "text": [
      "['wednesday', 'tuesday', 'monday', 'sunday']\n"
     ]
    }
   ],
   "source": [
    "print(day[::-1]) # membalik urutan"
   ]
  },
  {
   "cell_type": "code",
   "execution_count": 28,
   "id": "15a0167c-27f7-47b2-ac2c-9b3b3997d343",
   "metadata": {},
   "outputs": [],
   "source": [
    "day = ['sunday','monday','tuesday','wednesday']"
   ]
  },
  {
   "cell_type": "code",
   "execution_count": 31,
   "id": "c762ea99-ceb7-43bf-8428-22ac0f3dd888",
   "metadata": {},
   "outputs": [],
   "source": [
    "day[0] = 'saturday'"
   ]
  },
  {
   "cell_type": "code",
   "execution_count": 32,
   "id": "9ed58b4d-b20c-4228-b103-2d7a6ed20b41",
   "metadata": {},
   "outputs": [
    {
     "data": {
      "text/plain": [
       "['saturday', 'monday', 'tuesday', 'wednesday']"
      ]
     },
     "execution_count": 32,
     "metadata": {},
     "output_type": "execute_result"
    }
   ],
   "source": [
    "day"
   ]
  },
  {
   "cell_type": "code",
   "execution_count": 34,
   "id": "bface76c-740a-417d-8c05-a6697f3402b1",
   "metadata": {},
   "outputs": [],
   "source": [
    "#slicing\n",
    "day[0:2] = ['saturday','sunday']"
   ]
  },
  {
   "cell_type": "code",
   "execution_count": 35,
   "id": "850b8744-422e-4af1-b065-197e0053f9cb",
   "metadata": {},
   "outputs": [
    {
     "data": {
      "text/plain": [
       "['saturday', 'sunday', 'tuesday', 'wednesday']"
      ]
     },
     "execution_count": 35,
     "metadata": {},
     "output_type": "execute_result"
    }
   ],
   "source": [
    "day"
   ]
  },
  {
   "cell_type": "code",
   "execution_count": 38,
   "id": "56e54ebd-9a11-45d9-b0a2-96bba1418e8f",
   "metadata": {},
   "outputs": [],
   "source": [
    "#list operation\n",
    "x = [1,2,3,4,5]\n",
    "y = [6,7,8,9,10]"
   ]
  },
  {
   "cell_type": "code",
   "execution_count": 39,
   "id": "8ffd0bf0-9293-4c0d-94e4-728735823fff",
   "metadata": {},
   "outputs": [],
   "source": [
    "z = x + y"
   ]
  },
  {
   "cell_type": "code",
   "execution_count": 40,
   "id": "777aaa2c-b3c1-4ade-8e0e-ab7d05ab4a7f",
   "metadata": {},
   "outputs": [
    {
     "data": {
      "text/plain": [
       "[1, 2, 3, 4, 5, 6, 7, 8, 9, 10]"
      ]
     },
     "execution_count": 40,
     "metadata": {},
     "output_type": "execute_result"
    }
   ],
   "source": [
    "z"
   ]
  },
  {
   "cell_type": "code",
   "execution_count": 41,
   "id": "8e8b7e75-0fb5-4786-a99e-2fa51b75ca99",
   "metadata": {},
   "outputs": [],
   "source": [
    "name = ['agus']\n"
   ]
  },
  {
   "cell_type": "code",
   "execution_count": 43,
   "id": "bdfacb44-d4e2-43eb-9db9-f7c9725af048",
   "metadata": {},
   "outputs": [
    {
     "name": "stdout",
     "output_type": "stream",
     "text": [
      "['agus', 'agus', 'agus']\n"
     ]
    }
   ],
   "source": [
    "print(name *3)"
   ]
  },
  {
   "cell_type": "code",
   "execution_count": 44,
   "id": "6c7c01f6-6234-4aa9-a682-1e058a932209",
   "metadata": {},
   "outputs": [],
   "source": [
    "#list comparation\n",
    "a = [1,2,3]\n",
    "b = [1,2]"
   ]
  },
  {
   "cell_type": "code",
   "execution_count": 45,
   "id": "1a18babe-b9a1-4cc5-802b-c9517db01f54",
   "metadata": {},
   "outputs": [
    {
     "name": "stdout",
     "output_type": "stream",
     "text": [
      "a == b --> False\n"
     ]
    }
   ],
   "source": [
    "print(f\"a == b --> {a == b}\")"
   ]
  },
  {
   "cell_type": "code",
   "execution_count": 46,
   "id": "bd0704cc-b13b-4e24-980e-6b5f61070130",
   "metadata": {},
   "outputs": [
    {
     "name": "stdout",
     "output_type": "stream",
     "text": [
      "a >= b --> True\n"
     ]
    }
   ],
   "source": [
    "print(f\"a >= b --> {a >= b}\")"
   ]
  },
  {
   "cell_type": "code",
   "execution_count": 47,
   "id": "82ece03a-22b1-4afb-99ae-ef6984919661",
   "metadata": {},
   "outputs": [
    {
     "name": "stdout",
     "output_type": "stream",
     "text": [
      "a <= b --> False\n"
     ]
    }
   ],
   "source": [
    "print(f\"a <= b --> {a <= b}\")"
   ]
  },
  {
   "cell_type": "code",
   "execution_count": 48,
   "id": "77f1b195-bd02-42b4-981e-57f8d6a472a3",
   "metadata": {},
   "outputs": [
    {
     "name": "stdout",
     "output_type": "stream",
     "text": [
      "a > b --> True\n"
     ]
    }
   ],
   "source": [
    "print(f\"a > b --> {a > b}\")"
   ]
  },
  {
   "cell_type": "code",
   "execution_count": 49,
   "id": "1f91d2e2-a466-43de-8bbf-323062f5d404",
   "metadata": {},
   "outputs": [
    {
     "name": "stdout",
     "output_type": "stream",
     "text": [
      "a < b --> False\n"
     ]
    }
   ],
   "source": [
    "print(f\"a < b --> {a < b}\")"
   ]
  },
  {
   "cell_type": "code",
   "execution_count": 50,
   "id": "7fd3d79f-4248-47b3-b2e2-130eec00e62c",
   "metadata": {},
   "outputs": [
    {
     "name": "stdout",
     "output_type": "stream",
     "text": [
      "a != b --> True\n"
     ]
    }
   ],
   "source": [
    "print(f\"a != b --> {a != b}\")"
   ]
  },
  {
   "cell_type": "code",
   "execution_count": 59,
   "id": "8d2f992d-29a2-4a39-8e46-b9caacdf02a3",
   "metadata": {},
   "outputs": [],
   "source": [
    "#list methods\n",
    "#append() menambahkan item pada akkhir lis\n",
    "x = [1,2,3,4,5]\n",
    "x.append(100)"
   ]
  },
  {
   "cell_type": "code",
   "execution_count": 52,
   "id": "b9521bce-e292-44d4-b4f5-e601b24d5119",
   "metadata": {},
   "outputs": [
    {
     "data": {
      "text/plain": [
       "[1, 2, 3, 4, 5, 100]"
      ]
     },
     "execution_count": 52,
     "metadata": {},
     "output_type": "execute_result"
    }
   ],
   "source": [
    "x"
   ]
  },
  {
   "cell_type": "code",
   "execution_count": 58,
   "id": "8ae732b5-39f8-49b0-9fb8-3b1e7b548a14",
   "metadata": {},
   "outputs": [],
   "source": [
    "# extend() manambahkan semua list x ke ya\n",
    "y = ['a','b','c','d','e']\n",
    "y.extend(x)"
   ]
  },
  {
   "cell_type": "code",
   "execution_count": 55,
   "id": "1542c567-2d05-49ea-be47-3cfc7f41e31a",
   "metadata": {},
   "outputs": [
    {
     "data": {
      "text/plain": [
       "['a', 'b', 'c', 'd', 'e', 1, 2, 3, 4, 5, 100]"
      ]
     },
     "execution_count": 55,
     "metadata": {},
     "output_type": "execute_result"
    }
   ],
   "source": [
    "y"
   ]
  },
  {
   "cell_type": "code",
   "execution_count": 56,
   "id": "28dca392-274a-4071-92cd-39490e4ae762",
   "metadata": {},
   "outputs": [
    {
     "data": {
      "text/plain": [
       "'apple'"
      ]
     },
     "execution_count": 56,
     "metadata": {},
     "output_type": "execute_result"
    }
   ],
   "source": [
    "#pop() = remove item\n",
    "buah = [\"apple\",\"melon\",\"semangka\"]\n",
    "buah.pop(0)"
   ]
  },
  {
   "cell_type": "code",
   "execution_count": 57,
   "id": "09c01ac8-19f4-4d81-b533-2c55d8840d47",
   "metadata": {},
   "outputs": [
    {
     "data": {
      "text/plain": [
       "['melon', 'semangka']"
      ]
     },
     "execution_count": 57,
     "metadata": {},
     "output_type": "execute_result"
    }
   ],
   "source": [
    "buah"
   ]
  },
  {
   "cell_type": "code",
   "execution_count": 64,
   "id": "b87c8dd7-a0ac-4d27-946b-63a7c17f60b3",
   "metadata": {},
   "outputs": [],
   "source": [
    "# remove() nilai spesifik dari list\n",
    "sayur = ['sawi','terong','timun']\n",
    "sayur.remove('terong')"
   ]
  },
  {
   "cell_type": "code",
   "execution_count": 63,
   "id": "7b008eba-4556-4069-8075-f5e5e0fcffea",
   "metadata": {},
   "outputs": [
    {
     "data": {
      "text/plain": [
       "['sawi', 'timun']"
      ]
     },
     "execution_count": 63,
     "metadata": {},
     "output_type": "execute_result"
    }
   ],
   "source": [
    "sayur"
   ]
  },
  {
   "cell_type": "code",
   "execution_count": 70,
   "id": "b58a4dfc-a7c7-4933-9cd2-2b7d7022d506",
   "metadata": {},
   "outputs": [],
   "source": [
    "#sort(reverse=True/False)\n",
    "score = [90,76,68,100,86]\n",
    "score.sort(reverse=True)"
   ]
  },
  {
   "cell_type": "code",
   "execution_count": 71,
   "id": "e8359d30-4edd-471d-9186-68bd2ac4da82",
   "metadata": {},
   "outputs": [
    {
     "data": {
      "text/plain": [
       "[100, 90, 86, 76, 68]"
      ]
     },
     "execution_count": 71,
     "metadata": {},
     "output_type": "execute_result"
    }
   ],
   "source": [
    "score"
   ]
  },
  {
   "cell_type": "code",
   "execution_count": null,
   "id": "ccf281c8-75cc-4be1-a508-2b5bd4c1559e",
   "metadata": {},
   "outputs": [],
   "source": []
  }
 ],
 "metadata": {
  "kernelspec": {
   "display_name": "Python 3 (ipykernel)",
   "language": "python",
   "name": "python3"
  },
  "language_info": {
   "codemirror_mode": {
    "name": "ipython",
    "version": 3
   },
   "file_extension": ".py",
   "mimetype": "text/x-python",
   "name": "python",
   "nbconvert_exporter": "python",
   "pygments_lexer": "ipython3",
   "version": "3.8.10"
  }
 },
 "nbformat": 4,
 "nbformat_minor": 5
}
